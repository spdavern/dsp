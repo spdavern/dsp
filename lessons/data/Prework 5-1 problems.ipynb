{
 "cells": [
  {
   "cell_type": "markdown",
   "metadata": {},
   "source": [
    "Problem 14"
   ]
  },
  {
   "cell_type": "code",
   "execution_count": null,
   "metadata": {},
   "outputs": [],
   "source": [
    "f = lambda my_list: list(filter(lambda x: x%2==0, my_list))"
   ]
  },
  {
   "cell_type": "markdown",
   "metadata": {},
   "source": [
    "Problem 15"
   ]
  },
  {
   "cell_type": "code",
   "execution_count": null,
   "metadata": {},
   "outputs": [],
   "source": [
    "items_squared = map(lambda x: sqr(x), items_list)"
   ]
  },
  {
   "cell_type": "markdown",
   "metadata": {},
   "source": [
    "Problem 16"
   ]
  },
  {
   "cell_type": "code",
   "execution_count": null,
   "metadata": {},
   "outputs": [],
   "source": [
    "xlist = [0, 5, 10, 15, 20, 25, 30, 35, 40, 45, 50, 75,100]\n",
    "\n",
    "# Write your answer in one line, using \"filter\"\n",
    "tens_list = filter(lambda x: x%10==0, xlist)"
   ]
  },
  {
   "cell_type": "markdown",
   "metadata": {},
   "source": [
    "Problem 17"
   ]
  },
  {
   "cell_type": "code",
   "execution_count": null,
   "metadata": {},
   "outputs": [],
   "source": [
    "#!/bin/python3\n",
    "\n",
    "import sys\n",
    "import os\n",
    "from datetime import datetime\n",
    "\n",
    "\n",
    "# Complete the function below.\n",
    "\n",
    "def difference_in_days(date1, date2):\n",
    "    \"\"\"\n",
    "    Returns difference in 2 date strings in '%m-%d-%Y' format.\n",
    "    arguments: date1 < date2\n",
    "    returns: integer\n",
    "    \"\"\"\n",
    "    date1 = datetime.strptime(date1, \"%m-%d-%Y\")\n",
    "    date2 = datetime.strptime(date2, \"%m-%d-%Y\")\n",
    "    return abs((date2 - date1).days)\n",
    "    "
   ]
  },
  {
   "cell_type": "markdown",
   "metadata": {},
   "source": [
    "Problem 18"
   ]
  },
  {
   "cell_type": "code",
   "execution_count": null,
   "metadata": {},
   "outputs": [],
   "source": [
    "fahrenheit = [T*9./5. + 32. for T in celsius]"
   ]
  },
  {
   "cell_type": "markdown",
   "metadata": {},
   "source": [
    "Problem 19"
   ]
  },
  {
   "cell_type": "code",
   "execution_count": null,
   "metadata": {},
   "outputs": [],
   "source": [
    "def donuts(count):\n",
    "    return 'Number of donuts: ' + ('many' if count >= 10 else str(count))"
   ]
  },
  {
   "cell_type": "raw",
   "metadata": {},
   "source": [
    "Problem 20"
   ]
  },
  {
   "cell_type": "code",
   "execution_count": null,
   "metadata": {},
   "outputs": [],
   "source": [
    "def both_ends(s):\n",
    "    return (\"\" if len(s)<2 else s[:2]+s[-2:])"
   ]
  },
  {
   "cell_type": "markdown",
   "metadata": {},
   "source": [
    "Problem 21"
   ]
  },
  {
   "cell_type": "code",
   "execution_count": null,
   "metadata": {},
   "outputs": [],
   "source": [
    "def fix_start(s):\n",
    "    return s[0]+s[1:].replace(s[0],\"*\")"
   ]
  },
  {
   "cell_type": "markdown",
   "metadata": {},
   "source": [
    "Problem 22"
   ]
  },
  {
   "cell_type": "code",
   "execution_count": null,
   "metadata": {},
   "outputs": [],
   "source": [
    "def mix_up(a, b):\n",
    "    return b[0:2]+a[2:]+\" \"+a[0:2]+b[2:]"
   ]
  },
  {
   "cell_type": "markdown",
   "metadata": {},
   "source": [
    "Problem 23"
   ]
  },
  {
   "cell_type": "code",
   "execution_count": null,
   "metadata": {},
   "outputs": [],
   "source": [
    "def verbing(s):\n",
    "    if len(s)<3:\n",
    "        return s\n",
    "    else:\n",
    "        if s[-3:]=='ing':\n",
    "            return s+'ly'\n",
    "    return s+'ing'"
   ]
  },
  {
   "cell_type": "markdown",
   "metadata": {},
   "source": [
    "Problem 24"
   ]
  },
  {
   "cell_type": "code",
   "execution_count": null,
   "metadata": {},
   "outputs": [],
   "source": [
    "def not_bad(s):\n",
    "    not_index = s.find('not')\n",
    "    bad_index = s.find('bad')\n",
    "    if bad_index > not_index:\n",
    "        return s[:not_index]+'good'+s[bad_index+3:]\n",
    "    return s"
   ]
  },
  {
   "cell_type": "markdown",
   "metadata": {},
   "source": [
    "Problem 25"
   ]
  },
  {
   "cell_type": "code",
   "execution_count": null,
   "metadata": {},
   "outputs": [],
   "source": [
    "def front_back(s1, s2):\n",
    "    if len(s1)%2==0:\n",
    "        s1_i = int(len(s1)/2) \n",
    "    else:\n",
    "        s1_i = int(len(s1)/2) + 1\n",
    "    if (len(s2)%2==0):\n",
    "        s2_i = int(len(s2)/2)\n",
    "    else:\n",
    "        s2_i = int(len(s2)/2) + 1\n",
    "    return s1[:s1_i]+s2[:s2_i]+s1[s1_i:]+s2[s2_i:]"
   ]
  },
  {
   "cell_type": "markdown",
   "metadata": {},
   "source": [
    "Problem 26"
   ]
  },
  {
   "cell_type": "code",
   "execution_count": 1,
   "metadata": {},
   "outputs": [],
   "source": [
    "def match_ends(s):\n",
    "    \"\"\"\n",
    "    Returns count of strings in list with at least 2 characters that have matching first/last characters\n",
    "    \"\"\"\n",
    "    count = 0\n",
    "    for element in s:\n",
    "        if (len(element)>=2 and element[0]==element[-1]): count += 1\n",
    "    return count"
   ]
  },
  {
   "cell_type": "markdown",
   "metadata": {},
   "source": [
    "Problem 27"
   ]
  },
  {
   "cell_type": "code",
   "execution_count": null,
   "metadata": {},
   "outputs": [],
   "source": [
    "def front_x(words):\n",
    "    \"\"\"\n",
    "    Returns list of sorted words with words starting with 'x' first\n",
    "    \"\"\"\n",
    "    newlist = sorted(filter(lambda x: x[0]=='x',words))\n",
    "    newlist.extend(sorted(filter(lambda x: x[0]!='x',words)))\n",
    "    return newlist"
   ]
  },
  {
   "cell_type": "markdown",
   "metadata": {},
   "source": [
    "Problem 28"
   ]
  },
  {
   "cell_type": "code",
   "execution_count": null,
   "metadata": {},
   "outputs": [],
   "source": [
    "def sort_last(tuples):\n",
    "    \"\"\"\n",
    "    Returns sorted list of tuples by the last element\n",
    "    \"\"\"\n",
    "    return sorted(tuples,key=lambda x: x[-1])"
   ]
  },
  {
   "cell_type": "markdown",
   "metadata": {},
   "source": [
    "Problem 29"
   ]
  },
  {
   "cell_type": "code",
   "execution_count": null,
   "metadata": {},
   "outputs": [],
   "source": [
    "def remove_adjacent(nums):\n",
    "    \"\"\"\n",
    "    Returns list with duplicate adjacent element removed\n",
    "    \"\"\"\n",
    "    newlist = []\n",
    "    for i in range(len(nums)-1):\n",
    "        if nums[i]!=nums[i+1]: \n",
    "            newlist.append(nums[i])\n",
    "    if len(nums)>0:\n",
    "        newlist.append(nums[-1])\n",
    "    return newlist"
   ]
  },
  {
   "cell_type": "markdown",
   "metadata": {},
   "source": [
    "Problem 30"
   ]
  },
  {
   "cell_type": "code",
   "execution_count": null,
   "metadata": {},
   "outputs": [],
   "source": [
    "def linear_merge(list1, list2):\n",
    "    \"\"\"\n",
    "    Returns increasing sorted list of a merge of pre-sorted list1 and list2\n",
    "    \"\"\"\n",
    "    i=0\n",
    "    j=0\n",
    "    newlist=[]\n",
    "    # Step through each element of both lists appending the smaller\n",
    "    # element to the newlist.\n",
    "    while i<len(list1)-1 and j<len(list2)-1:\n",
    "        if list1[i] <= list2[j]:\n",
    "            newlist.append(list1[i])\n",
    "            i += 1\n",
    "        else:\n",
    "            newlist.append(list2[j])\n",
    "            j += 1\n",
    "    # Copy remaining elements of list1, if any\n",
    "    while i < len(list1):\n",
    "        newlist.append(list1[i])\n",
    "        i += 1\n",
    "    # Copy remaining elements of list2, if any\n",
    "    while j < len(list2):\n",
    "        newlist.append(list2[j])\n",
    "        j += 1\n",
    "    return newlist"
   ]
  },
  {
   "cell_type": "markdown",
   "metadata": {},
   "source": [
    "Problem 36"
   ]
  },
  {
   "cell_type": "code",
   "execution_count": null,
   "metadata": {},
   "outputs": [],
   "source": [
    "def remove_duplicates(somelist):\n",
    "    \"\"\"\n",
    "    Python's list to set constructor is O(n) time complexity:\n",
    "    https://stackoverflow.com/questions/34642155/what-is-time-complexity-of-a-list-to-set-conversion\n",
    "    \"\"\"\n",
    "    return set(somelist)"
   ]
  }
 ],
 "metadata": {
  "kernelspec": {
   "display_name": "Python 3",
   "language": "python",
   "name": "python3"
  },
  "language_info": {
   "codemirror_mode": {
    "name": "ipython",
    "version": 3
   },
   "file_extension": ".py",
   "mimetype": "text/x-python",
   "name": "python",
   "nbconvert_exporter": "python",
   "pygments_lexer": "ipython3",
   "version": "3.7.4"
  }
 },
 "nbformat": 4,
 "nbformat_minor": 4
}
