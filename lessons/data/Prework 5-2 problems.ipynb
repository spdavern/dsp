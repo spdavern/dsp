{
 "cells": [
  {
   "cell_type": "markdown",
   "metadata": {},
   "source": [
    "Problem 1"
   ]
  },
  {
   "cell_type": "code",
   "execution_count": 89,
   "metadata": {},
   "outputs": [],
   "source": [
    "def count_degrees(csv_file_name):\n",
    "    \"\"\"\n",
    "    Returns dictionary containing counts of degrees held by all people in source file\n",
    "    ----\n",
    "    argument: filename/path of sourcefile\n",
    "    return: dictionary of degrees and counts\n",
    "    \"\"\"\n",
    "    from collections import defaultdict\n",
    "    degrees_dict = defaultdict(int)\n",
    "    def standardize_degree(text):\n",
    "        \"\"\"\n",
    "        Returns standardized version of text for a degree passed to it.\n",
    "        ----\n",
    "        argument: string representing degree abbreviation\n",
    "        returns: standarded string\n",
    "        \"\"\"\n",
    "        import re\n",
    "        if re.match(\"(?i)ph\\.?d\\.?\",text):\n",
    "            degree_text = 'Ph.D.'\n",
    "        elif re.match(\"(?i)sc\\.?d\\.?\",text):\n",
    "            degree_text = 'Sc.D.'\n",
    "        elif re.match(\"(?i)m\\.?s\\.?\",text):\n",
    "            degree_text = 'M.S.'\n",
    "        elif re.match(\"(?i)m\\.?a\\.?\",text):\n",
    "            degree_text = 'M.A.'\n",
    "        else:\n",
    "            degree_text = text                \n",
    "        return degree_text\n",
    "    f = open(csv_file_name)\n",
    "    firstrow = True\n",
    "    for line in f:\n",
    "        row = line.replace('\\n','').split(',')\n",
    "        if firstrow:\n",
    "            firstrow = False\n",
    "        else:\n",
    "            for degree in row[1].strip().split(' '):\n",
    "                degrees_dict[standardize_degree(degree)] += 1\n",
    "    f.close()\n",
    "    return(degrees_dict)"
   ]
  },
  {
   "cell_type": "code",
   "execution_count": 90,
   "metadata": {},
   "outputs": [
    {
     "name": "stdout",
     "output_type": "stream",
     "text": [
      "defaultdict(<class 'int'>,\n",
      "            {'0': 1,\n",
      "             'B.S.Ed.': 1,\n",
      "             'JD': 1,\n",
      "             'M.A.': 1,\n",
      "             'M.S.': 2,\n",
      "             'MD': 1,\n",
      "             'MPH': 2,\n",
      "             'Ph.D.': 31,\n",
      "             'Sc.D.': 6})\n"
     ]
    }
   ],
   "source": [
    "import pprint as pp\n",
    "pp.pprint(count_degrees('faculty.csv'))"
   ]
  },
  {
   "cell_type": "code",
   "execution_count": 91,
   "metadata": {},
   "outputs": [
    {
     "data": {
      "text/plain": [
       "31"
      ]
     },
     "execution_count": 91,
     "metadata": {},
     "output_type": "execute_result"
    }
   ],
   "source": [
    "count_degrees('faculty.csv')['Ph.D.']"
   ]
  },
  {
   "cell_type": "markdown",
   "metadata": {},
   "source": [
    "Problem 2"
   ]
  },
  {
   "cell_type": "code",
   "execution_count": 98,
   "metadata": {},
   "outputs": [],
   "source": [
    "def count_titles(csv_file_name):\n",
    "    \"\"\"\n",
    "    Returns dictionary containing counts of titles held by people in \n",
    "    the source file\n",
    "    ----\n",
    "    argument: filename/path of the source file\n",
    "    return: dictionary of titles and counts\n",
    "    \"\"\"\n",
    "    from collections import defaultdict\n",
    "    titles_dict = defaultdict(int)\n",
    "    def standardize_title(text):\n",
    "        \"\"\"\n",
    "        Returns standardized version of text for a title passed to it.\n",
    "        ----\n",
    "        argument: string representing title\n",
    "        returns: standarded title string\n",
    "        \"\"\"\n",
    "        degree_text = text.replace(' is ',' of ')                \n",
    "        return degree_text\n",
    "    f = open(csv_file_name)\n",
    "    firstrow = True\n",
    "    for line in f:\n",
    "        row = line.replace('\\n','').split(',')\n",
    "        if firstrow:\n",
    "            firstrow = False\n",
    "        else:\n",
    "            titles_dict[standardize_title(row[2])] += 1\n",
    "    f.close()\n",
    "    return(titles_dict)"
   ]
  },
  {
   "cell_type": "code",
   "execution_count": 99,
   "metadata": {},
   "outputs": [
    {
     "name": "stdout",
     "output_type": "stream",
     "text": [
      "defaultdict(<class 'int'>,\n",
      "            {'Assistant Professor of Biostatistics': 12,\n",
      "             'Associate Professor of Biostatistics': 12,\n",
      "             'Professor of Biostatistics': 13})\n"
     ]
    }
   ],
   "source": [
    "import pprint as pp\n",
    "pp.pprint(count_titles('faculty.csv'))"
   ]
  },
  {
   "cell_type": "raw",
   "metadata": {},
   "source": [
    "Problem 3"
   ]
  },
  {
   "cell_type": "code",
   "execution_count": 102,
   "metadata": {},
   "outputs": [],
   "source": [
    "def emails(csv_file_name):\n",
    "    \"\"\"\n",
    "    Returns the list email addresses in the source file\n",
    "    ----\n",
    "    argument: filename/path of the source file\n",
    "    return: list of emails\n",
    "    \"\"\"\n",
    "    f = open(csv_file_name)\n",
    "    firstrow = True\n",
    "    email_list = []\n",
    "    for line in f:\n",
    "        row = line.replace('\\n','').split(',')\n",
    "        if firstrow:\n",
    "            firstrow = False\n",
    "        else:\n",
    "            email_list.append(row[3])\n",
    "    f.close()\n",
    "    return(email_list)"
   ]
  },
  {
   "cell_type": "code",
   "execution_count": 103,
   "metadata": {},
   "outputs": [
    {
     "data": {
      "text/plain": [
       "['bellamys@mail.med.upenn.edu',\n",
       " 'warren@upenn.edu',\n",
       " 'bryanma@upenn.edu',\n",
       " 'jinboche@upenn.edu',\n",
       " 'sellenbe@upenn.edu',\n",
       " 'jellenbe@mail.med.upenn.edu',\n",
       " 'ruifeng@upenn.edu',\n",
       " 'bcfrench@mail.med.upenn.edu',\n",
       " 'pgimotty@upenn.edu',\n",
       " 'wguo@mail.med.upenn.edu',\n",
       " 'hsu9@mail.med.upenn.edu',\n",
       " 'rhubb@mail.med.upenn.edu',\n",
       " 'whwang@mail.med.upenn.edu',\n",
       " 'mjoffe@mail.med.upenn.edu',\n",
       " 'jrlandis@mail.med.upenn.edu',\n",
       " 'liy3@email.chop.edu',\n",
       " 'mingyao@mail.med.upenn.edu',\n",
       " 'hongzhe@upenn.edu',\n",
       " 'rlocalio@upenn.edu',\n",
       " 'nanditam@mail.med.upenn.edu',\n",
       " 'knashawn@mail.med.upenn.edu',\n",
       " 'propert@mail.med.upenn.edu',\n",
       " 'mputt@mail.med.upenn.edu',\n",
       " 'sratclif@upenn.edu',\n",
       " 'michross@upenn.edu',\n",
       " 'jaroy@mail.med.upenn.edu',\n",
       " 'msammel@cceb.med.upenn.edu',\n",
       " 'shawp@upenn.edu',\n",
       " 'rshi@mail.med.upenn.edu',\n",
       " 'hshou@mail.med.upenn.edu',\n",
       " 'jshults@mail.med.upenn.edu',\n",
       " 'alisaste@mail.med.upenn.edu',\n",
       " 'atroxel@mail.med.upenn.edu',\n",
       " 'rxiao@mail.med.upenn.edu',\n",
       " 'sxie@mail.med.upenn.edu',\n",
       " 'dxie@upenn.edu',\n",
       " 'weiyang@mail.med.upenn.edu']"
      ]
     },
     "execution_count": 103,
     "metadata": {},
     "output_type": "execute_result"
    }
   ],
   "source": [
    "emails('faculty.csv')"
   ]
  },
  {
   "cell_type": "markdown",
   "metadata": {},
   "source": [
    "Problem 4\n",
    "First figure out the regex to grab the domain and test it:"
   ]
  },
  {
   "cell_type": "code",
   "execution_count": 127,
   "metadata": {},
   "outputs": [
    {
     "data": {
      "text/plain": [
       "{'cceb.med.upenn.edu', 'email.chop.edu', 'mail.med.upenn.edu', 'upenn.edu'}"
      ]
     },
     "execution_count": 127,
     "metadata": {},
     "output_type": "execute_result"
    }
   ],
   "source": [
    "import re\n",
    "def extractEmails( text ):\n",
    "    return re.search(\"@[\\w.]+\",text).group(0)[1:]\n",
    "\n",
    "set([re.search(\"@[\\w.]+\",email).group(0)[1:] for email in emails('faculty.csv')])"
   ]
  },
  {
   "cell_type": "code",
   "execution_count": 129,
   "metadata": {},
   "outputs": [],
   "source": [
    "def unique_domains(emails):\n",
    "    \"\"\"\n",
    "    Returns a unique collection of email domains contained\n",
    "    withing the emails list\n",
    "    ----\n",
    "    argument: a list of valid emails\n",
    "    return: a set of unique domains in the list of emails\n",
    "    \"\"\"\n",
    "    import re\n",
    "    return set([re.search(\"@[\\w.]+\",email).group(0)[1:] for email in emails])"
   ]
  },
  {
   "cell_type": "markdown",
   "metadata": {},
   "source": [
    "Problem 5"
   ]
  },
  {
   "cell_type": "code",
   "execution_count": 139,
   "metadata": {},
   "outputs": [],
   "source": [
    "def write_to_csv(list_of_emails):\n",
    "    \"\"\"\n",
    "    Writes the list of emails to a file named 'emails.csv'\n",
    "    ----\n",
    "    argument: list of emails\n",
    "    \"\"\"\n",
    "    f = open('emails.csv','w')\n",
    "    f.write('list_of_emails\\n')\n",
    "    for email in list_of_emails:\n",
    "        f.write(email+'\\n')\n",
    "    f.close()\n",
    "    return"
   ]
  },
  {
   "cell_type": "code",
   "execution_count": 140,
   "metadata": {},
   "outputs": [],
   "source": [
    "write_to_csv(emails('faculty.csv'))"
   ]
  },
  {
   "cell_type": "markdown",
   "metadata": {},
   "source": [
    "Problem 6"
   ]
  },
  {
   "cell_type": "code",
   "execution_count": 219,
   "metadata": {},
   "outputs": [],
   "source": [
    "def get_dict():\n",
    "    \"\"\"\n",
    "    Returns a dictionary from 'faculty.csv' with key = last name\n",
    "    and value = collection (list) of the rest of the row for \n",
    "    each faculty with that last name.\n",
    "    \"\"\"\n",
    "    faculty_dict = {}\n",
    "    f = open('faculty.csv')\n",
    "    firstrow = True\n",
    "    for line in f:\n",
    "        # Parse the comma delimited line of the file\n",
    "        row = line.replace('\\n','').split(',')\n",
    "        if firstrow:\n",
    "            # The first row contains headers\n",
    "            firstrow = False\n",
    "        else:\n",
    "            # Take the last 'word' of the name as the lastname\n",
    "            # This won't work for compound last names!\n",
    "            lastname = row[0].split(' ')[-1]\n",
    "            if lastname in faculty_dict.keys():\n",
    "                # The lastname is already in the dictionary\n",
    "                # so get the list of rows for that lastname\n",
    "                listoflists = faculty_dict[lastname]\n",
    "            else:\n",
    "                # A new lastname for the dictionary\n",
    "                # so start a new list\n",
    "                listoflists = []\n",
    "            # Append the new row to the list\n",
    "            listoflists.append(list(row[1:]))\n",
    "            # Update the dictionary\n",
    "            faculty_dict.update({lastname: listoflists})\n",
    "    f.close()\n",
    "    return faculty_dict"
   ]
  },
  {
   "cell_type": "code",
   "execution_count": 221,
   "metadata": {},
   "outputs": [
    {
     "data": {
      "text/plain": [
       "{'Bellamy': [[' Sc.D.',\n",
       "   'Associate Professor of Biostatistics',\n",
       "   'bellamys@mail.med.upenn.edu']],\n",
       " 'Bilker': [['Ph.D.', 'Professor of Biostatistics', 'warren@upenn.edu']],\n",
       " 'Bryan': [[' PhD',\n",
       "   'Assistant Professor of Biostatistics',\n",
       "   'bryanma@upenn.edu']],\n",
       " 'Chen': [[' Ph.D.',\n",
       "   'Associate Professor of Biostatistics',\n",
       "   'jinboche@upenn.edu']],\n",
       " 'Ellenberg': [[' Ph.D.', 'Professor of Biostatistics', 'sellenbe@upenn.edu'],\n",
       "  [' Ph.D.', 'Professor of Biostatistics', 'jellenbe@mail.med.upenn.edu']],\n",
       " 'Feng': [[' Ph.D',\n",
       "   'Assistant Professor of Biostatistics',\n",
       "   'ruifeng@upenn.edu']],\n",
       " 'French': [[' PhD',\n",
       "   'Associate Professor of Biostatistics',\n",
       "   'bcfrench@mail.med.upenn.edu']],\n",
       " 'Gimotty': [[' Ph.D', 'Professor of Biostatistics', 'pgimotty@upenn.edu']],\n",
       " 'Guo': [[' Ph.D', 'Professor of Biostatistics', 'wguo@mail.med.upenn.edu']],\n",
       " 'Hsu': [[' Ph.D.',\n",
       "   'Assistant Professor of Biostatistics',\n",
       "   'hsu9@mail.med.upenn.edu']],\n",
       " 'Hubbard': [[' PhD',\n",
       "   'Associate Professor of Biostatistics',\n",
       "   'rhubb@mail.med.upenn.edu']],\n",
       " 'Hwang': [[' Ph.D.',\n",
       "   'Associate Professor of Biostatistics',\n",
       "   'whwang@mail.med.upenn.edu']],\n",
       " 'Joffe': [[' MD MPH Ph.D',\n",
       "   'Professor of Biostatistics',\n",
       "   'mjoffe@mail.med.upenn.edu']],\n",
       " 'Landis': [[' B.S.Ed. M.S. Ph.D.',\n",
       "   'Professor of Biostatistics',\n",
       "   'jrlandis@mail.med.upenn.edu']],\n",
       " 'Li': [[' Ph.D.',\n",
       "   'Assistant Professor of Biostatistics',\n",
       "   'liy3@email.chop.edu'],\n",
       "  [' Ph.D.',\n",
       "   'Associate Professor of Biostatistics',\n",
       "   'mingyao@mail.med.upenn.edu'],\n",
       "  [' Ph.D', 'Professor of Biostatistics', 'hongzhe@upenn.edu']],\n",
       " 'Localio': [[' JD MA MPH MS PhD',\n",
       "   'Associate Professor of Biostatistics',\n",
       "   'rlocalio@upenn.edu']],\n",
       " 'Mitra': [[' Ph.D.',\n",
       "   'Associate Professor of Biostatistics',\n",
       "   'nanditam@mail.med.upenn.edu']],\n",
       " 'Morales': [[' Sc.D.',\n",
       "   'Associate Professor of Biostatistics',\n",
       "   'knashawn@mail.med.upenn.edu']],\n",
       " 'Propert': [[' Sc.D.',\n",
       "   'Professor of Biostatistics',\n",
       "   'propert@mail.med.upenn.edu']],\n",
       " 'Putt': [[' PhD ScD',\n",
       "   'Professor of Biostatistics',\n",
       "   'mputt@mail.med.upenn.edu']],\n",
       " 'Ratcliffe': [[' Ph.D.',\n",
       "   'Associate Professor of Biostatistics',\n",
       "   'sratclif@upenn.edu']],\n",
       " 'Ross': [[' PhD',\n",
       "   'Assistant Professor is Biostatistics',\n",
       "   'michross@upenn.edu']],\n",
       " 'Roy': [[' Ph.D.',\n",
       "   'Associate Professor of Biostatistics',\n",
       "   'jaroy@mail.med.upenn.edu']],\n",
       " 'Sammel': [[' Sc.D.',\n",
       "   'Professor of Biostatistics',\n",
       "   'msammel@cceb.med.upenn.edu']],\n",
       " 'Shaw': [[' PhD', 'Assistant Professor of Biostatistics', 'shawp@upenn.edu']],\n",
       " 'Shinohara': [['0',\n",
       "   'Assistant Professor of Biostatistics',\n",
       "   'rshi@mail.med.upenn.edu']],\n",
       " 'Shou': [[' Ph.D.',\n",
       "   'Assistant Professor of Biostatistics',\n",
       "   'hshou@mail.med.upenn.edu']],\n",
       " 'Shults': [[' Ph.D.',\n",
       "   'Professor of Biostatistics',\n",
       "   'jshults@mail.med.upenn.edu']],\n",
       " 'Stephens': [[' Ph.D.',\n",
       "   'Assistant Professor of Biostatistics',\n",
       "   'alisaste@mail.med.upenn.edu']],\n",
       " 'Troxel': [[' ScD',\n",
       "   'Professor of Biostatistics',\n",
       "   'atroxel@mail.med.upenn.edu']],\n",
       " 'Xiao': [[' PhD',\n",
       "   'Assistant Professor of Biostatistics',\n",
       "   'rxiao@mail.med.upenn.edu']],\n",
       " 'Xie': [[' Ph.D.',\n",
       "   'Associate Professor of Biostatistics',\n",
       "   'sxie@mail.med.upenn.edu'],\n",
       "  [' PhD', 'Assistant Professor of Biostatistics', 'dxie@upenn.edu']],\n",
       " 'Yang': [[' Ph.D.',\n",
       "   'Assistant Professor of Biostatistics',\n",
       "   'weiyang@mail.med.upenn.edu']]}"
      ]
     },
     "execution_count": 221,
     "metadata": {},
     "output_type": "execute_result"
    }
   ],
   "source": [
    "get_dict()"
   ]
  },
  {
   "cell_type": "markdown",
   "metadata": {},
   "source": [
    "Problem 7"
   ]
  },
  {
   "cell_type": "code",
   "execution_count": 224,
   "metadata": {},
   "outputs": [],
   "source": [
    "def get_dict():\n",
    "    \"\"\"\n",
    "    Returns a dictionary from 'faculty.csv' with key = tuple of name components\n",
    "    and value = the rest of the row for that faculty person\n",
    "    \"\"\"\n",
    "    faculty_dict = {}\n",
    "    f = open('faculty.csv')\n",
    "    firstrow = True\n",
    "    for line in f:\n",
    "        # Parse the comma delimited line of the file\n",
    "        row = line.replace('\\n','').split(',')\n",
    "        if firstrow:\n",
    "            # The first row contains headers\n",
    "            firstrow = False\n",
    "        else:\n",
    "            # Split the name into tuple of words\n",
    "            name = tuple(row[0].split(' '))\n",
    "            # Update the dictionary\n",
    "            faculty_dict.update({name: row[1:]})\n",
    "    f.close()\n",
    "    return faculty_dict"
   ]
  },
  {
   "cell_type": "code",
   "execution_count": 225,
   "metadata": {},
   "outputs": [
    {
     "data": {
      "text/plain": [
       "{('Scarlett', 'L.', 'Bellamy'): [' Sc.D.',\n",
       "  'Associate Professor of Biostatistics',\n",
       "  'bellamys@mail.med.upenn.edu'],\n",
       " ('Warren', 'B.', 'Bilker'): ['Ph.D.',\n",
       "  'Professor of Biostatistics',\n",
       "  'warren@upenn.edu'],\n",
       " ('Matthew', 'W', 'Bryan'): [' PhD',\n",
       "  'Assistant Professor of Biostatistics',\n",
       "  'bryanma@upenn.edu'],\n",
       " ('Jinbo', 'Chen'): [' Ph.D.',\n",
       "  'Associate Professor of Biostatistics',\n",
       "  'jinboche@upenn.edu'],\n",
       " ('Susan', 'S', 'Ellenberg'): [' Ph.D.',\n",
       "  'Professor of Biostatistics',\n",
       "  'sellenbe@upenn.edu'],\n",
       " ('Jonas', 'H.', 'Ellenberg'): [' Ph.D.',\n",
       "  'Professor of Biostatistics',\n",
       "  'jellenbe@mail.med.upenn.edu'],\n",
       " ('Rui', 'Feng'): [' Ph.D',\n",
       "  'Assistant Professor of Biostatistics',\n",
       "  'ruifeng@upenn.edu'],\n",
       " ('Benjamin', 'C.', 'French'): [' PhD',\n",
       "  'Associate Professor of Biostatistics',\n",
       "  'bcfrench@mail.med.upenn.edu'],\n",
       " ('Phyllis', 'A.', 'Gimotty'): [' Ph.D',\n",
       "  'Professor of Biostatistics',\n",
       "  'pgimotty@upenn.edu'],\n",
       " ('Wensheng', 'Guo'): [' Ph.D',\n",
       "  'Professor of Biostatistics',\n",
       "  'wguo@mail.med.upenn.edu'],\n",
       " ('Yenchih', 'Hsu'): [' Ph.D.',\n",
       "  'Assistant Professor of Biostatistics',\n",
       "  'hsu9@mail.med.upenn.edu'],\n",
       " ('Rebecca', 'A', 'Hubbard'): [' PhD',\n",
       "  'Associate Professor of Biostatistics',\n",
       "  'rhubb@mail.med.upenn.edu'],\n",
       " ('Wei-Ting', 'Hwang'): [' Ph.D.',\n",
       "  'Associate Professor of Biostatistics',\n",
       "  'whwang@mail.med.upenn.edu'],\n",
       " ('Marshall', 'M.', 'Joffe'): [' MD MPH Ph.D',\n",
       "  'Professor of Biostatistics',\n",
       "  'mjoffe@mail.med.upenn.edu'],\n",
       " ('J.', 'Richard', 'Landis'): [' B.S.Ed. M.S. Ph.D.',\n",
       "  'Professor of Biostatistics',\n",
       "  'jrlandis@mail.med.upenn.edu'],\n",
       " ('Yimei', 'Li'): [' Ph.D.',\n",
       "  'Assistant Professor of Biostatistics',\n",
       "  'liy3@email.chop.edu'],\n",
       " ('Mingyao', 'Li'): [' Ph.D.',\n",
       "  'Associate Professor of Biostatistics',\n",
       "  'mingyao@mail.med.upenn.edu'],\n",
       " ('Hongzhe', 'Li'): [' Ph.D',\n",
       "  'Professor of Biostatistics',\n",
       "  'hongzhe@upenn.edu'],\n",
       " ('A.', 'Russell', 'Localio'): [' JD MA MPH MS PhD',\n",
       "  'Associate Professor of Biostatistics',\n",
       "  'rlocalio@upenn.edu'],\n",
       " ('Nandita', 'Mitra'): [' Ph.D.',\n",
       "  'Associate Professor of Biostatistics',\n",
       "  'nanditam@mail.med.upenn.edu'],\n",
       " ('Knashawn', 'H.', 'Morales'): [' Sc.D.',\n",
       "  'Associate Professor of Biostatistics',\n",
       "  'knashawn@mail.med.upenn.edu'],\n",
       " ('Kathleen', 'Joy', 'Propert'): [' Sc.D.',\n",
       "  'Professor of Biostatistics',\n",
       "  'propert@mail.med.upenn.edu'],\n",
       " ('Mary', 'E.', 'Putt'): [' PhD ScD',\n",
       "  'Professor of Biostatistics',\n",
       "  'mputt@mail.med.upenn.edu'],\n",
       " ('Sarah', 'Jane', 'Ratcliffe'): [' Ph.D.',\n",
       "  'Associate Professor of Biostatistics',\n",
       "  'sratclif@upenn.edu'],\n",
       " ('Michelle', 'Elana', 'Ross'): [' PhD',\n",
       "  'Assistant Professor is Biostatistics',\n",
       "  'michross@upenn.edu'],\n",
       " ('Jason', 'A.', 'Roy'): [' Ph.D.',\n",
       "  'Associate Professor of Biostatistics',\n",
       "  'jaroy@mail.med.upenn.edu'],\n",
       " ('Mary', 'D.', 'Sammel'): [' Sc.D.',\n",
       "  'Professor of Biostatistics',\n",
       "  'msammel@cceb.med.upenn.edu'],\n",
       " ('Pamela', 'Ann', 'Shaw'): [' PhD',\n",
       "  'Assistant Professor of Biostatistics',\n",
       "  'shawp@upenn.edu'],\n",
       " ('Russell', 'Takeshi', 'Shinohara'): ['0',\n",
       "  'Assistant Professor of Biostatistics',\n",
       "  'rshi@mail.med.upenn.edu'],\n",
       " ('Haochang', 'Shou'): [' Ph.D.',\n",
       "  'Assistant Professor of Biostatistics',\n",
       "  'hshou@mail.med.upenn.edu'],\n",
       " ('Justine', 'Shults'): [' Ph.D.',\n",
       "  'Professor of Biostatistics',\n",
       "  'jshults@mail.med.upenn.edu'],\n",
       " ('Alisa', 'Jane', 'Stephens'): [' Ph.D.',\n",
       "  'Assistant Professor of Biostatistics',\n",
       "  'alisaste@mail.med.upenn.edu'],\n",
       " ('Andrea', 'Beth', 'Troxel'): [' ScD',\n",
       "  'Professor of Biostatistics',\n",
       "  'atroxel@mail.med.upenn.edu'],\n",
       " ('Rui', 'Xiao'): [' PhD',\n",
       "  'Assistant Professor of Biostatistics',\n",
       "  'rxiao@mail.med.upenn.edu'],\n",
       " ('Sharon', 'Xiangwen', 'Xie'): [' Ph.D.',\n",
       "  'Associate Professor of Biostatistics',\n",
       "  'sxie@mail.med.upenn.edu'],\n",
       " ('Dawei', 'Xie'): [' PhD',\n",
       "  'Assistant Professor of Biostatistics',\n",
       "  'dxie@upenn.edu'],\n",
       " ('Wei', '(Peter)', 'Yang'): [' Ph.D.',\n",
       "  'Assistant Professor of Biostatistics',\n",
       "  'weiyang@mail.med.upenn.edu']}"
      ]
     },
     "execution_count": 225,
     "metadata": {},
     "output_type": "execute_result"
    }
   ],
   "source": [
    "get_dict()"
   ]
  },
  {
   "cell_type": "code",
   "execution_count": null,
   "metadata": {},
   "outputs": [],
   "source": []
  }
 ],
 "metadata": {
  "kernelspec": {
   "display_name": "Python 3",
   "language": "python",
   "name": "python3"
  },
  "language_info": {
   "codemirror_mode": {
    "name": "ipython",
    "version": 3
   },
   "file_extension": ".py",
   "mimetype": "text/x-python",
   "name": "python",
   "nbconvert_exporter": "python",
   "pygments_lexer": "ipython3",
   "version": "3.7.4"
  }
 },
 "nbformat": 4,
 "nbformat_minor": 4
}
