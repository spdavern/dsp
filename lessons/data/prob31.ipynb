{
 "cells": [
  {
   "cell_type": "code",
   "execution_count": 66,
   "metadata": {},
   "outputs": [],
   "source": [
    "def read_data(filename):\n",
    "    \"\"\"Returns a list of lists representing the rows of the csv file data.\n",
    "\n",
    "    Arguments: filename is the name of a csv file (as a string)\n",
    "    Returns: list of lists of strings, where every line is split into a list of values. \n",
    "        ex: ['Arsenal', 38, 26, 9, 3, 79, 36, 87]\n",
    "    \"\"\"\n",
    "    f = open(filename,'r')\n",
    "    footballTable = []\n",
    "    firstrow = True\n",
    "    for line in f:\n",
    "        row = line.replace('\\n','').split(',')\n",
    "        if firstrow:\n",
    "            firstrow = False\n",
    "        else:\n",
    "            for i in range(1,len(row)):\n",
    "                row[i] = int(row[i])\n",
    "            footballTable.append(row)\n",
    "    f.close()\n",
    "    return footballTable"
   ]
  },
  {
   "cell_type": "code",
   "execution_count": 74,
   "metadata": {},
   "outputs": [
    {
     "data": {
      "text/plain": [
       "[['Arsenal', 38, 26, 9, 3, 79, 36, 87],\n",
       " ['Liverpool', 38, 24, 8, 6, 67, 30, 80],\n",
       " ['Manchester United', 38, 24, 5, 9, 87, 45, 77],\n",
       " ['Newcastle', 38, 21, 8, 9, 74, 52, 71],\n",
       " ['Leeds', 38, 18, 12, 8, 53, 37, 66],\n",
       " ['Chelsea', 38, 17, 13, 8, 66, 38, 64],\n",
       " ['West_Ham', 38, 15, 8, 15, 48, 57, 53],\n",
       " ['Aston_Villa', 38, 12, 14, 12, 46, 47, 50],\n",
       " ['Tottenham', 38, 14, 8, 16, 49, 53, 50],\n",
       " ['Blackburn', 38, 12, 10, 16, 55, 51, 46],\n",
       " ['Southampton', 38, 12, 9, 17, 46, 54, 45],\n",
       " ['Middlesbrough', 38, 12, 9, 17, 35, 47, 45],\n",
       " ['Fulham', 38, 10, 14, 14, 36, 44, 44],\n",
       " ['Charlton', 38, 10, 14, 14, 38, 49, 44],\n",
       " ['Everton', 38, 11, 10, 17, 45, 57, 43],\n",
       " ['Bolton', 38, 9, 13, 16, 44, 62, 40],\n",
       " ['Sunderland', 38, 10, 10, 18, 29, 51, 40],\n",
       " ['Ipswich', 38, 9, 9, 20, 41, 64, 36],\n",
       " ['Derby', 38, 8, 6, 24, 33, 63, 30],\n",
       " ['Leicester', 38, 5, 13, 20, 30, 64, 28]]"
      ]
     },
     "execution_count": 74,
     "metadata": {},
     "output_type": "execute_result"
    }
   ],
   "source": [
    "footballTable = read_data('football.csv')\n",
    "footballTable"
   ]
  },
  {
   "cell_type": "code",
   "execution_count": 121,
   "metadata": {},
   "outputs": [],
   "source": [
    "def get_index_with_min_abs_score_difference(goals):\n",
    "    \"\"\"Returns the index of the team with the smallest difference\n",
    "    between 'for' and 'against' goals, in terms of absolute value.\n",
    "\n",
    "    Arguments: parsed_data is a list of lists of cleaned strings\n",
    "    Returns: integer row index\n",
    "    \"\"\"\n",
    "    i=0\n",
    "    for team in goals:\n",
    "        if i==0:\n",
    "            index_of_smallest_diff = 0\n",
    "            smallest_diff = abs(team[5]-team[6])\n",
    "            i += 1\n",
    "        else:\n",
    "            if abs(team[5]-team[6])<smallest_diff:\n",
    "                index_of_smallest_diff = i\n",
    "                smallest_diff = abs(team[5]-team[6])\n",
    "            i += 1\n",
    "    return index_of_smallest_diff"
   ]
  },
  {
   "cell_type": "code",
   "execution_count": 122,
   "metadata": {},
   "outputs": [
    {
     "data": {
      "text/plain": [
       "7"
      ]
     },
     "execution_count": 122,
     "metadata": {},
     "output_type": "execute_result"
    }
   ],
   "source": [
    "index_value = get_index_with_min_abs_score_difference(footballTable)\n",
    "index_value"
   ]
  },
  {
   "cell_type": "code",
   "execution_count": 123,
   "metadata": {},
   "outputs": [],
   "source": [
    "def get_team(index_value, parsed_data):\n",
    "    \"\"\"Returns the team name at a given index.\n",
    "    \n",
    "    Arguments: index_value is an integer row index\n",
    "               parsed_data is the output of `read_data` above\n",
    "               \n",
    "    Returns: the team name\n",
    "    \"\"\"\n",
    "    return parsed_data[index_value][0]"
   ]
  },
  {
   "cell_type": "code",
   "execution_count": 124,
   "metadata": {},
   "outputs": [
    {
     "data": {
      "text/plain": [
       "'Aston_Villa'"
      ]
     },
     "execution_count": 124,
     "metadata": {},
     "output_type": "execute_result"
    }
   ],
   "source": [
    "get_team(index_value,footballTable)"
   ]
  },
  {
   "cell_type": "code",
   "execution_count": null,
   "metadata": {},
   "outputs": [],
   "source": []
  }
 ],
 "metadata": {
  "kernelspec": {
   "display_name": "Python 3",
   "language": "python",
   "name": "python3"
  },
  "language_info": {
   "codemirror_mode": {
    "name": "ipython",
    "version": 3
   },
   "file_extension": ".py",
   "mimetype": "text/x-python",
   "name": "python",
   "nbconvert_exporter": "python",
   "pygments_lexer": "ipython3",
   "version": "3.7.4"
  }
 },
 "nbformat": 4,
 "nbformat_minor": 4
}
