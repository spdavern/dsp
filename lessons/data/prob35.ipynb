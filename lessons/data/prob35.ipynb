{
 "cells": [
  {
   "cell_type": "code",
   "execution_count": 12,
   "metadata": {},
   "outputs": [],
   "source": [
    "list1 = [5,4,3,2,1,3,4]\n",
    "list2 = [7,5,6,8,4]"
   ]
  },
  {
   "cell_type": "code",
   "execution_count": 13,
   "metadata": {},
   "outputs": [
    {
     "data": {
      "text/plain": [
       "4"
      ]
     },
     "execution_count": 13,
     "metadata": {},
     "output_type": "execute_result"
    }
   ],
   "source": [
    "min(list2)"
   ]
  },
  {
   "cell_type": "code",
   "execution_count": 17,
   "metadata": {},
   "outputs": [],
   "source": [
    "def intersect_lists_2(list1, list2):\n",
    "    \"\"\"\n",
    "    Return an intersection of list1 and 2 in O(n) time\n",
    "    \"\"\"\n",
    "    # Converting lists to sets eliminates duplicates in lists\n",
    "    unique_list1 = set(list1)\n",
    "    unique_list2 = set(list2)\n",
    "    # According to https://wiki.python.org/moin/TimeComplexity\n",
    "    # set intersection is O(min(len(set2),len(set2)) time for average case.\n",
    "    # Guessing that python set implementation will be optimized I'll try it for passing.\n",
    "    return list(unique_list1.intersection(unique_list2))"
   ]
  },
  {
   "cell_type": "code",
   "execution_count": 18,
   "metadata": {},
   "outputs": [
    {
     "data": {
      "text/plain": [
       "[4, 5]"
      ]
     },
     "execution_count": 18,
     "metadata": {},
     "output_type": "execute_result"
    }
   ],
   "source": [
    "intersect_lists_2(list1, list2)"
   ]
  },
  {
   "cell_type": "code",
   "execution_count": null,
   "metadata": {},
   "outputs": [],
   "source": []
  }
 ],
 "metadata": {
  "kernelspec": {
   "display_name": "Python 3",
   "language": "python",
   "name": "python3"
  },
  "language_info": {
   "codemirror_mode": {
    "name": "ipython",
    "version": 3
   },
   "file_extension": ".py",
   "mimetype": "text/x-python",
   "name": "python",
   "nbconvert_exporter": "python",
   "pygments_lexer": "ipython3",
   "version": "3.7.4"
  }
 },
 "nbformat": 4,
 "nbformat_minor": 4
}
