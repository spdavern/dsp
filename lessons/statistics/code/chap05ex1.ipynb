{
 "cells": [
  {
   "cell_type": "markdown",
   "metadata": {},
   "source": [
    "# [Think Stats, 2nd Edition](http://thinkstats2.com), Section 5.8 Exercises, Exercise 5.1\n",
    "\n",
    "**Exercise 5.1** In the BRFSS (see Section 5.4), the distribution of heights is\n",
    "roughly normal with parameters µ = 178 cm and σ = 7.7 cm for men, and\n",
    "µ = 163 cm and σ = 7.3 cm for women.\n",
    "\n",
    "In order to join Blue Man Group, you have to be male between 5’10” and\n",
    "6’1” (see http://bluemancasting.com). What percentage of the U.S. male\n",
    "population is in this range? Hint: use `scipy.stats.norm.cdf`."
   ]
  },
  {
   "cell_type": "code",
   "execution_count": 1,
   "metadata": {},
   "outputs": [],
   "source": [
    "import scipy.stats"
   ]
  },
  {
   "cell_type": "markdown",
   "metadata": {},
   "source": [
    "Convert heights from ft and in to cm:"
   ]
  },
  {
   "cell_type": "code",
   "execution_count": 2,
   "metadata": {},
   "outputs": [
    {
     "data": {
      "text/plain": [
       "(177.8, 185.42000000000002)"
      ]
     },
     "execution_count": 2,
     "metadata": {},
     "output_type": "execute_result"
    }
   ],
   "source": [
    "h1 = (5*12 +10)*2.54\n",
    "h2 = (6*12 + 1)*2.54\n",
    "h1, h2"
   ]
  },
  {
   "cell_type": "markdown",
   "metadata": {},
   "source": [
    "Use the cumulative density function to determine the fraction of male population less than or equal to each height. The difference between the two is the fraction of the male population between these heights:"
   ]
  },
  {
   "cell_type": "code",
   "execution_count": 4,
   "metadata": {},
   "outputs": [
    {
     "name": "stdout",
     "output_type": "stream",
     "text": [
      "Fraction of U.S. males that have height to be eligible to join Blue Man Group: 34.3 %\n"
     ]
    }
   ],
   "source": [
    "mu, scale = 178, 7.7\n",
    "cdf_h1 = scipy.stats.norm.cdf(h1, loc=mu, scale=scale)\n",
    "cdf_h2 = scipy.stats.norm.cdf(h2, loc=mu, scale=scale)\n",
    "print('Fraction of U.S. males that have height to be eligible to join Blue Man Group: {0:1.1f}'\n",
    "      .format((cdf_h2-cdf_h1)*100),'%')"
   ]
  },
  {
   "cell_type": "code",
   "execution_count": null,
   "metadata": {},
   "outputs": [],
   "source": []
  }
 ],
 "metadata": {
  "kernelspec": {
   "display_name": "Python 3",
   "language": "python",
   "name": "python3"
  },
  "language_info": {
   "codemirror_mode": {
    "name": "ipython",
    "version": 3
   },
   "file_extension": ".py",
   "mimetype": "text/x-python",
   "name": "python",
   "nbconvert_exporter": "python",
   "pygments_lexer": "ipython3",
   "version": "3.7.4"
  }
 },
 "nbformat": 4,
 "nbformat_minor": 4
}
