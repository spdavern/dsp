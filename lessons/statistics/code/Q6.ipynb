{
 "cells": [
  {
   "cell_type": "markdown",
   "metadata": {},
   "source": [
    "### Q6. Bayesian &amp; Frequentist Comparison  \n",
    "How do frequentist and Bayesian statistics compare?\n",
    "\n",
    "From [Jeremy Orloff and Jonathan Bloom](https://ocw.mit.edu/courses/mathematics/18-05-introduction-to-probability-and-statistics-spring-2014/readings/MIT18_05S14_Reading20.pdf):\n",
    "\n",
    "The Bayesian school models uncertainty by a probability distribution over hypotheses.\n",
    "One’s ability to make inferences depends on one’s degree of confidence in the chosen prior,\n",
    "and the robustness of the findings to alternate prior distributions may be relevant and\n",
    "important.\n",
    "\n",
    "The frequentist school only uses conditional distributions of data given specific hypotheses.\n",
    "The presumption is that some hypothesis (parameter specifying the conditional distribution\n",
    "of the data) is true and that the observed data is sampled from that distribution. In\n",
    "particular, the frequentist approach does not depend on a subjective prior that may vary\n",
    "from one investigator to another.\n",
    "\n",
    "These two schools may be further contrasted as follows:\n",
    "\n",
    "Bayesian inference\n",
    "* uses probabilities for both hypotheses and data.\n",
    "* depends on the prior and likelihood of observed data.\n",
    "* requires one to know or construct a ‘subjective prior’.\n",
    "* dominated statistical practice before the 20th century.\n",
    "* may be computationally intensive due to integration over many parameters.\n",
    "\n",
    "Frequentist inference (NHST)\n",
    "* never uses or gives the probability of a hypothesis (no prior or posterior).\n",
    "* depends on the likelihood P(T> H)) for both observed and unobserved data.\n",
    "* does not require a prior.\n",
    "* dominated statistical practice during the 20th century.\n",
    "* tends to be less computationally intensive."
   ]
  },
  {
   "cell_type": "code",
   "execution_count": null,
   "metadata": {},
   "outputs": [],
   "source": []
  }
 ],
 "metadata": {
  "kernelspec": {
   "display_name": "Python 3",
   "language": "python",
   "name": "python3"
  },
  "language_info": {
   "codemirror_mode": {
    "name": "ipython",
    "version": 3
   },
   "file_extension": ".py",
   "mimetype": "text/x-python",
   "name": "python",
   "nbconvert_exporter": "python",
   "pygments_lexer": "ipython3",
   "version": "3.7.4"
  }
 },
 "nbformat": 4,
 "nbformat_minor": 4
}
