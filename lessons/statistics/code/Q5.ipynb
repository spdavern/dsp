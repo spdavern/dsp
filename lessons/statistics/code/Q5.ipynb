{
 "cells": [
  {
   "cell_type": "markdown",
   "metadata": {},
   "source": [
    "### Q5. Bayesian (Elvis Presley twin) \n",
    "\n",
    "Bayes' Theorem is an important tool in understanding what we really know, given evidence of other information we have, in a quantitative way.  It helps incorporate conditional probabilities into our conclusions.\n",
    "\n",
    "Elvis Presley had a twin brother who died at birth.  What is the probability that Elvis was an identical twin? Assume we observe the following probabilities in the population: fraternal twin is 1/125 and identical twin is 1/300.  \n",
    "\n",
    "Following reasoning by [Helfrich](http://citeseerx.ist.psu.edu/viewdoc/download?doi=10.1.1.385.9195&rep=rep1&type=pdf) and given that Elvis' twin was a male:\n",
    "\n",
    "![Title](../images/DecisionTree.png)"
   ]
  },
  {
   "cell_type": "markdown",
   "metadata": {},
   "source": [
    "From the diagram we can infer P(Identical|Male) = 5/(5+6) = 5/11\n",
    "\n",
    "#### Solution by Bayes' Theorem\n",
    "\n",
    "\\begin{align}\n",
    "P(Identical|Male) &= \\frac{P(Male|Identical) \\cdot P(Identical)}{P(Male)}\n",
    "\\end{align}\n",
    "\n",
    "To calculate P(Male):\n",
    "\n",
    "\\begin{align}\n",
    "P(Male) &= P(Male|Identical) \\cdot P(Identical) + P(Male|Fraternal) \\cdot P(Fraternal) \\\\\n",
    "&= \\frac{1}{2} \\cdot \\frac{1}{300} + \\frac{1}{4} \\cdot \\frac{1}{125} \\\\\n",
    "&= \\frac{1}{600} + \\frac{1}{500} \\\\\n",
    "&= \\frac{5}{3000} + \\frac{6}{3000} \\\\\n",
    "&= \\frac{11}{3000}\n",
    "\\end{align}\n",
    "\n",
    "Then\n",
    "\n",
    "\\begin{align}\n",
    "P(Identical|Male) &= \\frac{ \\frac{1}{2} \\cdot \\frac{1}{300} }{ \\frac{11}{3000} } \\\\\n",
    "&= \\frac{1}{600} \\cdot \\frac{3000}{11} \\\\\n",
    "&= \\frac{5}{11}\n",
    "\\end{align}"
   ]
  },
  {
   "cell_type": "code",
   "execution_count": 1,
   "metadata": {},
   "outputs": [
    {
     "name": "stdout",
     "output_type": "stream",
     "text": [
      "The probability that Elvis was an identical twin: 45.5 %.\n"
     ]
    }
   ],
   "source": [
    "print('The probability that Elvis was an identical twin: {0:1.1f}'.format(100*5/11),'%.')"
   ]
  },
  {
   "cell_type": "code",
   "execution_count": null,
   "metadata": {},
   "outputs": [],
   "source": []
  }
 ],
 "metadata": {
  "kernelspec": {
   "display_name": "Python 3",
   "language": "python",
   "name": "python3"
  },
  "language_info": {
   "codemirror_mode": {
    "name": "ipython",
    "version": 3
   },
   "file_extension": ".py",
   "mimetype": "text/x-python",
   "name": "python",
   "nbconvert_exporter": "python",
   "pygments_lexer": "ipython3",
   "version": "3.7.4"
  }
 },
 "nbformat": 4,
 "nbformat_minor": 4
}
